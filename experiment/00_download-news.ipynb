{
 "cells": [
  {
   "cell_type": "code",
   "execution_count": 14,
   "metadata": {
    "execution": {
     "iopub.execute_input": "2024-12-21T07:24:53.308858Z",
     "iopub.status.busy": "2024-12-21T07:24:53.307916Z",
     "iopub.status.idle": "2024-12-21T07:24:53.317081Z",
     "shell.execute_reply": "2024-12-21T07:24:53.315793Z",
     "shell.execute_reply.started": "2024-12-21T07:24:53.308809Z"
    },
    "trusted": true
   },
   "outputs": [],
   "source": [
    "import os\n",
    "import sys\n",
    "import requests\n",
    "import numpy as np\n",
    "import pandas as pd\n",
    "from tqdm import tqdm\n",
    "from dotenv import load_dotenv\n",
    "from typing import List, Dict, Any, Tuple, Optional\n",
    "import polars as pl\n",
    "\n",
    "from datasets import load_dataset\n",
    "from bs4 import BeautifulSoup\n",
    "\n",
    "from pydantic import BaseModel, Field\n",
    "\n",
    "import warnings\n",
    "load_dotenv()\n",
    "warnings.filterwarnings(\"ignore\")\n",
    "\n",
    "# os.environ[\"OPENAI_API_KEY\"] = os.getenv(\"OPENAI_API_KEY\")"
   ]
  },
  {
   "cell_type": "code",
   "execution_count": 17,
   "metadata": {
    "execution": {
     "iopub.execute_input": "2024-12-21T07:29:53.137356Z",
     "iopub.status.busy": "2024-12-21T07:29:53.136799Z",
     "iopub.status.idle": "2024-12-21T07:29:53.147228Z",
     "shell.execute_reply": "2024-12-21T07:29:53.145771Z",
     "shell.execute_reply.started": "2024-12-21T07:29:53.137304Z"
    },
    "trusted": true
   },
   "outputs": [],
   "source": [
    "def download_csv(url):\n",
    "    response = requests.get(url, stream=True)\n",
    "    file_size = int(response.headers.get('content-length', 0))\n",
    "    block_size = 1024  \n",
    "    \n",
    "    with tqdm(total=file_size, unit='iB', unit_scale=True, desc=\"Downloading\") as progress_bar:\n",
    "        with open(\"nasdaq_external_data.csv\", \"wb\") as file:\n",
    "            for data in response.iter_content(block_size):\n",
    "                progress_bar.update(len(data))\n",
    "                file.write(data)\n",
    "    \n",
    "    if file_size != 0 and progress_bar.n != file_size:\n",
    "        print(\"ERROR: Download incomplete\")\n",
    "    else:\n",
    "        nasdaq_df = pd.read_csv(\"nasdaq_external_data.csv\")\n",
    "        print(nasdaq_df.head())\n",
    "\n"
   ]
  },
  {
   "cell_type": "code",
   "execution_count": 6,
   "metadata": {
    "execution": {
     "iopub.execute_input": "2024-12-21T07:20:02.974411Z",
     "iopub.status.busy": "2024-12-21T07:20:02.973864Z",
     "iopub.status.idle": "2024-12-21T07:20:02.980501Z",
     "shell.execute_reply": "2024-12-21T07:20:02.979053Z",
     "shell.execute_reply.started": "2024-12-21T07:20:02.974365Z"
    },
    "trusted": true
   },
   "outputs": [],
   "source": [
    "url = \"https://huggingface.co/datasets/Zihan1004/FNSPID/resolve/main/Stock_news/nasdaq_exteral_data.csv\"\n",
    "\n",
    "nasdaq_df = download_csv(url)\n",
    "nasdaq_df"
   ]
  },
  {
   "cell_type": "code",
   "execution_count": 20,
   "metadata": {
    "execution": {
     "iopub.execute_input": "2024-12-21T07:35:06.095582Z",
     "iopub.status.busy": "2024-12-21T07:35:06.095118Z",
     "iopub.status.idle": "2024-12-21T07:41:55.954922Z",
     "shell.execute_reply": "2024-12-21T07:41:55.953764Z",
     "shell.execute_reply.started": "2024-12-21T07:35:06.095546Z"
    },
    "trusted": true
   },
   "outputs": [
    {
     "name": "stderr",
     "output_type": "stream",
     "text": [
      "1it [00:10, 10.29s/it]"
     ]
    },
    {
     "name": "stdout",
     "output_type": "stream",
     "text": [
      "['AAPL' 'ADBE' 'ADI' 'ADP' 'ADSK' 'AEP'] | Total Len: 19844 rows\n"
     ]
    },
    {
     "name": "stderr",
     "output_type": "stream",
     "text": [
      "2it [00:19,  9.74s/it]"
     ]
    },
    {
     "name": "stdout",
     "output_type": "stream",
     "text": [
      "['AMAT' 'AMD' 'AMGN'] | Total Len: 37382 rows\n"
     ]
    },
    {
     "name": "stderr",
     "output_type": "stream",
     "text": [
      "3it [00:29,  9.96s/it]"
     ]
    },
    {
     "name": "stdout",
     "output_type": "stream",
     "text": [
      "['AMZN' 'ANSS' 'ASML' 'AVGO' 'AZN'] | Total Len: 44771 rows\n"
     ]
    },
    {
     "name": "stderr",
     "output_type": "stream",
     "text": [
      "4it [00:39,  9.80s/it]"
     ]
    },
    {
     "name": "stdout",
     "output_type": "stream",
     "text": [
      "['BIIB' 'BKNG' 'BKR'] | Total Len: 53186 rows\n"
     ]
    },
    {
     "name": "stderr",
     "output_type": "stream",
     "text": [
      "5it [00:48,  9.65s/it]"
     ]
    },
    {
     "name": "stdout",
     "output_type": "stream",
     "text": [
      "['CCEP'] | Total Len: 53422 rows\n"
     ]
    },
    {
     "name": "stderr",
     "output_type": "stream",
     "text": [
      "6it [00:59, 10.02s/it]"
     ]
    },
    {
     "name": "stdout",
     "output_type": "stream",
     "text": [
      "['CDNS' 'CHTR' 'CMCSA'] | Total Len: 63452 rows\n"
     ]
    },
    {
     "name": "stderr",
     "output_type": "stream",
     "text": [
      "7it [01:10, 10.30s/it]"
     ]
    },
    {
     "name": "stdout",
     "output_type": "stream",
     "text": [
      "['COST' 'CPRT' 'CRWD' 'CSGP' 'CSX' 'CTAS' 'CTSH'] | Total Len: 77255 rows\n"
     ]
    },
    {
     "name": "stderr",
     "output_type": "stream",
     "text": [
      "8it [01:20, 10.13s/it]"
     ]
    },
    {
     "name": "stdout",
     "output_type": "stream",
     "text": [
      "['DDOG'] | Total Len: 78441 rows\n"
     ]
    },
    {
     "name": "stderr",
     "output_type": "stream",
     "text": [
      "9it [01:29, 10.00s/it]"
     ]
    },
    {
     "name": "stdout",
     "output_type": "stream",
     "text": [
      "['DXCM' 'EA'] | Total Len: 83130 rows\n"
     ]
    },
    {
     "name": "stderr",
     "output_type": "stream",
     "text": [
      "10it [01:39,  9.75s/it]"
     ]
    },
    {
     "name": "stdout",
     "output_type": "stream",
     "text": [
      "['EXC' 'FANG' 'FAST'] | Total Len: 87723 rows\n"
     ]
    },
    {
     "name": "stderr",
     "output_type": "stream",
     "text": [
      "11it [01:50, 10.36s/it]"
     ]
    },
    {
     "name": "stdout",
     "output_type": "stream",
     "text": [
      "['FTNT'] | Total Len: 89417 rows\n"
     ]
    },
    {
     "name": "stderr",
     "output_type": "stream",
     "text": [
      "12it [02:02, 10.88s/it]"
     ]
    },
    {
     "name": "stdout",
     "output_type": "stream",
     "text": [
      "['GILD' 'GOOG'] | Total Len: 105545 rows\n"
     ]
    },
    {
     "name": "stderr",
     "output_type": "stream",
     "text": [
      "13it [02:13, 10.92s/it]"
     ]
    },
    {
     "name": "stdout",
     "output_type": "stream",
     "text": [
      "[] | Total Len: 105545 rows\n"
     ]
    },
    {
     "name": "stderr",
     "output_type": "stream",
     "text": [
      "14it [02:24, 10.92s/it]"
     ]
    },
    {
     "name": "stdout",
     "output_type": "stream",
     "text": [
      "['INTC' 'KHC' 'KLAC'] | Total Len: 116663 rows\n"
     ]
    },
    {
     "name": "stderr",
     "output_type": "stream",
     "text": [
      "15it [02:36, 11.28s/it]"
     ]
    },
    {
     "name": "stdout",
     "output_type": "stream",
     "text": [
      "['LIN' 'LRCX' 'MELI' 'MNST' 'MRVL' 'MSFT'] | Total Len: 128653 rows\n"
     ]
    },
    {
     "name": "stderr",
     "output_type": "stream",
     "text": [
      "16it [02:48, 11.49s/it]"
     ]
    },
    {
     "name": "stdout",
     "output_type": "stream",
     "text": [
      "['MU'] | Total Len: 135109 rows\n"
     ]
    },
    {
     "name": "stderr",
     "output_type": "stream",
     "text": [
      "17it [03:00, 11.67s/it]"
     ]
    },
    {
     "name": "stdout",
     "output_type": "stream",
     "text": [
      "['NVDA' 'ODFL' 'ON' 'ORLY'] | Total Len: 147447 rows\n"
     ]
    },
    {
     "name": "stderr",
     "output_type": "stream",
     "text": [
      "18it [03:12, 11.72s/it]"
     ]
    },
    {
     "name": "stdout",
     "output_type": "stream",
     "text": [
      "['PANW' 'PAYX' 'PCAR' 'PDD' 'PEP'] | Total Len: 159919 rows\n"
     ]
    },
    {
     "name": "stderr",
     "output_type": "stream",
     "text": [
      "19it [03:24, 11.75s/it]"
     ]
    },
    {
     "name": "stdout",
     "output_type": "stream",
     "text": [
      "['PYPL' 'QCOM' 'REGN'] | Total Len: 172265 rows\n"
     ]
    },
    {
     "name": "stderr",
     "output_type": "stream",
     "text": [
      "20it [03:35, 11.62s/it]"
     ]
    },
    {
     "name": "stdout",
     "output_type": "stream",
     "text": [
      "['ROP' 'ROST' 'SBUX' 'SMCI'] | Total Len: 182601 rows\n"
     ]
    },
    {
     "name": "stderr",
     "output_type": "stream",
     "text": [
      "21it [03:47, 11.71s/it]"
     ]
    },
    {
     "name": "stdout",
     "output_type": "stream",
     "text": [
      "['TEAM'] | Total Len: 183502 rows\n"
     ]
    },
    {
     "name": "stderr",
     "output_type": "stream",
     "text": [
      "22it [03:58, 11.50s/it]"
     ]
    },
    {
     "name": "stdout",
     "output_type": "stream",
     "text": [
      "['TMUS' 'TSLA' 'TTWO' 'TXN'] | Total Len: 201895 rows\n"
     ]
    },
    {
     "name": "stderr",
     "output_type": "stream",
     "text": [
      "23it [04:10, 11.38s/it]"
     ]
    },
    {
     "name": "stdout",
     "output_type": "stream",
     "text": [
      "[] | Total Len: 201895 rows\n"
     ]
    },
    {
     "name": "stderr",
     "output_type": "stream",
     "text": [
      "24it [04:21, 11.42s/it]"
     ]
    },
    {
     "name": "stdout",
     "output_type": "stream",
     "text": [
      "['VRSK' 'VRTX' 'WDAY'] | Total Len: 207213 rows\n"
     ]
    },
    {
     "name": "stderr",
     "output_type": "stream",
     "text": [
      "25it [04:32, 11.16s/it]"
     ]
    },
    {
     "name": "stdout",
     "output_type": "stream",
     "text": [
      "['XEL' 'ZS' 'AAPL'] | Total Len: 210041 rows\n"
     ]
    },
    {
     "name": "stderr",
     "output_type": "stream",
     "text": [
      "26it [04:32,  8.07s/it]"
     ]
    },
    {
     "name": "stdout",
     "output_type": "stream",
     "text": [
      "['ADBE' 'ADI' 'ADP' 'ADSK' 'AMAT' 'AMD' 'AMGN' 'AMZN' 'ANSS' 'APP' 'ASML'] | Total Len: 217391 rows\n"
     ]
    },
    {
     "name": "stderr",
     "output_type": "stream",
     "text": [
      "27it [04:33,  5.88s/it]"
     ]
    },
    {
     "name": "stdout",
     "output_type": "stream",
     "text": [
      "['AVGO' 'AZN' 'BIIB'] | Total Len: 222943 rows\n"
     ]
    },
    {
     "name": "stderr",
     "output_type": "stream",
     "text": [
      "28it [04:35,  4.63s/it]"
     ]
    },
    {
     "name": "stdout",
     "output_type": "stream",
     "text": [
      "['CDNS' 'CDW' 'CHTR' 'CMCSA' 'CPRT' 'CSCO' 'CSGP' 'CSX'] | Total Len: 228048 rows\n"
     ]
    },
    {
     "name": "stderr",
     "output_type": "stream",
     "text": [
      "29it [04:37,  3.91s/it]"
     ]
    },
    {
     "name": "stdout",
     "output_type": "stream",
     "text": [
      "['CSX' 'CTAS' 'CTSH' 'DXCM' 'EA'] | Total Len: 232887 rows\n"
     ]
    },
    {
     "name": "stderr",
     "output_type": "stream",
     "text": [
      "30it [04:39,  3.42s/it]"
     ]
    },
    {
     "name": "stdout",
     "output_type": "stream",
     "text": [
      "['FANG' 'FAST'] | Total Len: 233527 rows\n"
     ]
    },
    {
     "name": "stderr",
     "output_type": "stream",
     "text": [
      "31it [04:42,  3.08s/it]"
     ]
    },
    {
     "name": "stdout",
     "output_type": "stream",
     "text": [
      "['FTNT' 'GILD' 'GOOG' 'GOOGL'] | Total Len: 240160 rows\n"
     ]
    },
    {
     "name": "stderr",
     "output_type": "stream",
     "text": [
      "32it [04:44,  2.81s/it]"
     ]
    },
    {
     "name": "stdout",
     "output_type": "stream",
     "text": [
      "['IDXX' 'ILMN' 'INTC' 'INTU'] | Total Len: 242816 rows\n"
     ]
    },
    {
     "name": "stderr",
     "output_type": "stream",
     "text": [
      "33it [04:46,  2.53s/it]"
     ]
    },
    {
     "name": "stdout",
     "output_type": "stream",
     "text": [
      "['KLAC' 'LRCX' 'LULU' 'MAR' 'MCHP'] | Total Len: 246395 rows\n"
     ]
    },
    {
     "name": "stderr",
     "output_type": "stream",
     "text": [
      "34it [04:48,  2.38s/it]"
     ]
    },
    {
     "name": "stdout",
     "output_type": "stream",
     "text": [
      "['MDLZ' 'MNST' 'MRVL' 'MU' 'NFLX'] | Total Len: 255239 rows\n"
     ]
    },
    {
     "name": "stderr",
     "output_type": "stream",
     "text": [
      "35it [04:50,  2.31s/it]"
     ]
    },
    {
     "name": "stdout",
     "output_type": "stream",
     "text": [
      "['NVDA' 'NXPI' 'ORLY' 'PANW' 'PAYX' 'PEP'] | Total Len: 264228 rows\n"
     ]
    },
    {
     "name": "stderr",
     "output_type": "stream",
     "text": [
      "36it [04:52,  2.32s/it]"
     ]
    },
    {
     "name": "stdout",
     "output_type": "stream",
     "text": [
      "['QCOM' 'REGN' 'ROP'] | Total Len: 269029 rows\n"
     ]
    },
    {
     "name": "stderr",
     "output_type": "stream",
     "text": [
      "37it [04:53,  1.87s/it]"
     ]
    },
    {
     "name": "stdout",
     "output_type": "stream",
     "text": [
      "['SBUX' 'SNPS'] | Total Len: 270321 rows\n"
     ]
    },
    {
     "name": "stderr",
     "output_type": "stream",
     "text": [
      "38it [04:54,  1.58s/it]"
     ]
    },
    {
     "name": "stdout",
     "output_type": "stream",
     "text": [
      "['TMUS' 'TSLA' 'TXN'] | Total Len: 274389 rows\n"
     ]
    },
    {
     "name": "stderr",
     "output_type": "stream",
     "text": [
      "39it [04:55,  1.40s/it]"
     ]
    },
    {
     "name": "stdout",
     "output_type": "stream",
     "text": [
      "['VRSK' 'VRTX' 'WDAY' 'XEL'] | Total Len: 277393 rows\n"
     ]
    },
    {
     "name": "stderr",
     "output_type": "stream",
     "text": [
      "40it [05:02,  3.06s/it]"
     ]
    },
    {
     "name": "stdout",
     "output_type": "stream",
     "text": [
      "[] | Total Len: 277393 rows\n"
     ]
    },
    {
     "name": "stderr",
     "output_type": "stream",
     "text": [
      "41it [05:09,  4.37s/it]"
     ]
    },
    {
     "name": "stdout",
     "output_type": "stream",
     "text": [
      "[] | Total Len: 277393 rows\n"
     ]
    },
    {
     "name": "stderr",
     "output_type": "stream",
     "text": [
      "42it [05:16,  5.14s/it]"
     ]
    },
    {
     "name": "stdout",
     "output_type": "stream",
     "text": [
      "[] | Total Len: 277393 rows\n"
     ]
    },
    {
     "name": "stderr",
     "output_type": "stream",
     "text": [
      "43it [05:24,  5.92s/it]"
     ]
    },
    {
     "name": "stdout",
     "output_type": "stream",
     "text": [
      "[] | Total Len: 277393 rows\n"
     ]
    },
    {
     "name": "stderr",
     "output_type": "stream",
     "text": [
      "44it [05:32,  6.56s/it]"
     ]
    },
    {
     "name": "stdout",
     "output_type": "stream",
     "text": [
      "[] | Total Len: 277393 rows\n"
     ]
    },
    {
     "name": "stderr",
     "output_type": "stream",
     "text": [
      "45it [05:40,  6.92s/it]"
     ]
    },
    {
     "name": "stdout",
     "output_type": "stream",
     "text": [
      "[] | Total Len: 277393 rows\n"
     ]
    },
    {
     "name": "stderr",
     "output_type": "stream",
     "text": [
      "46it [05:47,  6.92s/it]"
     ]
    },
    {
     "name": "stdout",
     "output_type": "stream",
     "text": [
      "[] | Total Len: 277393 rows\n"
     ]
    },
    {
     "name": "stderr",
     "output_type": "stream",
     "text": [
      "47it [05:54,  6.99s/it]"
     ]
    },
    {
     "name": "stdout",
     "output_type": "stream",
     "text": [
      "[] | Total Len: 277393 rows\n"
     ]
    },
    {
     "name": "stderr",
     "output_type": "stream",
     "text": [
      "48it [05:55,  5.22s/it]"
     ]
    },
    {
     "name": "stdout",
     "output_type": "stream",
     "text": [
      "['AAPL' 'ADBE' 'ADI' 'ADP' 'ADSK' 'AMAT' 'AMGN' 'ANSS'] | Total Len: 280023 rows\n"
     ]
    },
    {
     "name": "stderr",
     "output_type": "stream",
     "text": [
      "49it [05:56,  3.97s/it]"
     ]
    },
    {
     "name": "stdout",
     "output_type": "stream",
     "text": [
      "['APP' 'ASML' 'AVGO' 'AZN' 'BIIB'] | Total Len: 283508 rows\n"
     ]
    },
    {
     "name": "stderr",
     "output_type": "stream",
     "text": [
      "50it [05:57,  3.09s/it]"
     ]
    },
    {
     "name": "stdout",
     "output_type": "stream",
     "text": [
      "['CDNS' 'CDW' 'CHTR'] | Total Len: 284437 rows\n"
     ]
    },
    {
     "name": "stderr",
     "output_type": "stream",
     "text": [
      "51it [05:58,  2.49s/it]"
     ]
    },
    {
     "name": "stdout",
     "output_type": "stream",
     "text": [
      "['CMCSA' 'CPRT' 'CSCO' 'CSGP' 'CSX' 'CTAS' 'CTSH'] | Total Len: 290577 rows\n"
     ]
    },
    {
     "name": "stderr",
     "output_type": "stream",
     "text": [
      "52it [05:59,  2.07s/it]"
     ]
    },
    {
     "name": "stdout",
     "output_type": "stream",
     "text": [
      "['DXCM' 'EA'] | Total Len: 293145 rows\n"
     ]
    },
    {
     "name": "stderr",
     "output_type": "stream",
     "text": [
      "53it [06:00,  1.77s/it]"
     ]
    },
    {
     "name": "stdout",
     "output_type": "stream",
     "text": [
      "['FANG' 'FAST'] | Total Len: 295130 rows\n"
     ]
    },
    {
     "name": "stderr",
     "output_type": "stream",
     "text": [
      "54it [06:01,  1.57s/it]"
     ]
    },
    {
     "name": "stdout",
     "output_type": "stream",
     "text": [
      "['FTNT' 'GILD'] | Total Len: 297783 rows\n"
     ]
    },
    {
     "name": "stderr",
     "output_type": "stream",
     "text": [
      "55it [06:03,  1.43s/it]"
     ]
    },
    {
     "name": "stdout",
     "output_type": "stream",
     "text": [
      "['GOOG' 'GOOGL'] | Total Len: 297963 rows\n"
     ]
    },
    {
     "name": "stderr",
     "output_type": "stream",
     "text": [
      "56it [06:04,  1.33s/it]"
     ]
    },
    {
     "name": "stdout",
     "output_type": "stream",
     "text": [
      "['IDXX' 'ILMN' 'INTC' 'INTU'] | Total Len: 303483 rows\n"
     ]
    },
    {
     "name": "stderr",
     "output_type": "stream",
     "text": [
      "57it [06:05,  1.26s/it]"
     ]
    },
    {
     "name": "stdout",
     "output_type": "stream",
     "text": [
      "['KLAC'] | Total Len: 304655 rows\n"
     ]
    },
    {
     "name": "stderr",
     "output_type": "stream",
     "text": [
      "58it [06:06,  1.22s/it]"
     ]
    },
    {
     "name": "stdout",
     "output_type": "stream",
     "text": [
      "['LRCX' 'LULU' 'MAR' 'MCHP' 'MDLZ' 'MNST' 'MRVL'] | Total Len: 311784 rows\n"
     ]
    },
    {
     "name": "stderr",
     "output_type": "stream",
     "text": [
      "59it [06:07,  1.19s/it]"
     ]
    },
    {
     "name": "stdout",
     "output_type": "stream",
     "text": [
      "['MU' 'NXPI'] | Total Len: 311801 rows\n"
     ]
    },
    {
     "name": "stderr",
     "output_type": "stream",
     "text": [
      "60it [06:08,  1.17s/it]"
     ]
    },
    {
     "name": "stdout",
     "output_type": "stream",
     "text": [
      "['ORLY' 'PANW' 'PAYX' 'PEP'] | Total Len: 316634 rows\n"
     ]
    },
    {
     "name": "stderr",
     "output_type": "stream",
     "text": [
      "61it [06:09,  1.16s/it]"
     ]
    },
    {
     "name": "stdout",
     "output_type": "stream",
     "text": [
      "['QCOM' 'REGN' 'ROP'] | Total Len: 319688 rows\n"
     ]
    },
    {
     "name": "stderr",
     "output_type": "stream",
     "text": [
      "62it [06:10,  1.15s/it]"
     ]
    },
    {
     "name": "stdout",
     "output_type": "stream",
     "text": [
      "['SBUX' 'SNPS'] | Total Len: 320364 rows\n"
     ]
    },
    {
     "name": "stderr",
     "output_type": "stream",
     "text": [
      "63it [06:12,  1.15s/it]"
     ]
    },
    {
     "name": "stdout",
     "output_type": "stream",
     "text": [
      "[] | Total Len: 320364 rows\n"
     ]
    },
    {
     "name": "stderr",
     "output_type": "stream",
     "text": [
      "64it [06:13,  1.15s/it]"
     ]
    },
    {
     "name": "stdout",
     "output_type": "stream",
     "text": [
      "['TMUS' 'TXN'] | Total Len: 322538 rows\n"
     ]
    },
    {
     "name": "stderr",
     "output_type": "stream",
     "text": [
      "65it [06:14,  1.11s/it]"
     ]
    },
    {
     "name": "stdout",
     "output_type": "stream",
     "text": [
      "['VRSK' 'VRTX' 'WDAY' 'XEL'] | Total Len: 326150 rows\n"
     ]
    },
    {
     "name": "stderr",
     "output_type": "stream",
     "text": [
      "66it [06:15,  1.09s/it]"
     ]
    },
    {
     "name": "stdout",
     "output_type": "stream",
     "text": [
      "[] | Total Len: 326150 rows\n"
     ]
    },
    {
     "name": "stderr",
     "output_type": "stream",
     "text": [
      "67it [06:16,  1.06s/it]"
     ]
    },
    {
     "name": "stdout",
     "output_type": "stream",
     "text": [
      "[] | Total Len: 326150 rows\n"
     ]
    },
    {
     "name": "stderr",
     "output_type": "stream",
     "text": [
      "68it [06:17,  1.02s/it]"
     ]
    },
    {
     "name": "stdout",
     "output_type": "stream",
     "text": [
      "[] | Total Len: 326150 rows\n"
     ]
    },
    {
     "name": "stderr",
     "output_type": "stream",
     "text": [
      "69it [06:18,  1.01it/s]"
     ]
    },
    {
     "name": "stdout",
     "output_type": "stream",
     "text": [
      "[] | Total Len: 326150 rows\n"
     ]
    },
    {
     "name": "stderr",
     "output_type": "stream",
     "text": [
      "70it [06:19,  1.00s/it]"
     ]
    },
    {
     "name": "stdout",
     "output_type": "stream",
     "text": [
      "[] | Total Len: 326150 rows\n"
     ]
    },
    {
     "name": "stderr",
     "output_type": "stream",
     "text": [
      "71it [06:20,  1.01s/it]"
     ]
    },
    {
     "name": "stdout",
     "output_type": "stream",
     "text": [
      "[] | Total Len: 326150 rows\n"
     ]
    },
    {
     "name": "stderr",
     "output_type": "stream",
     "text": [
      "72it [06:21,  1.03s/it]"
     ]
    },
    {
     "name": "stdout",
     "output_type": "stream",
     "text": [
      "[] | Total Len: 326150 rows\n"
     ]
    },
    {
     "name": "stderr",
     "output_type": "stream",
     "text": [
      "73it [06:22,  1.05s/it]"
     ]
    },
    {
     "name": "stdout",
     "output_type": "stream",
     "text": [
      "[] | Total Len: 326150 rows\n"
     ]
    },
    {
     "name": "stderr",
     "output_type": "stream",
     "text": [
      "74it [06:23,  1.06s/it]"
     ]
    },
    {
     "name": "stdout",
     "output_type": "stream",
     "text": [
      "[] | Total Len: 326150 rows\n"
     ]
    },
    {
     "name": "stderr",
     "output_type": "stream",
     "text": [
      "75it [06:24,  1.06s/it]"
     ]
    },
    {
     "name": "stdout",
     "output_type": "stream",
     "text": [
      "[] | Total Len: 326150 rows\n"
     ]
    },
    {
     "name": "stderr",
     "output_type": "stream",
     "text": [
      "76it [06:25,  1.05s/it]"
     ]
    },
    {
     "name": "stdout",
     "output_type": "stream",
     "text": [
      "[] | Total Len: 326150 rows\n"
     ]
    },
    {
     "name": "stderr",
     "output_type": "stream",
     "text": [
      "77it [06:26,  1.05s/it]"
     ]
    },
    {
     "name": "stdout",
     "output_type": "stream",
     "text": [
      "[] | Total Len: 326150 rows\n"
     ]
    },
    {
     "name": "stderr",
     "output_type": "stream",
     "text": [
      "78it [06:27,  1.05s/it]"
     ]
    },
    {
     "name": "stdout",
     "output_type": "stream",
     "text": [
      "[] | Total Len: 326150 rows\n"
     ]
    },
    {
     "name": "stderr",
     "output_type": "stream",
     "text": [
      "79it [06:28,  1.04s/it]"
     ]
    },
    {
     "name": "stdout",
     "output_type": "stream",
     "text": [
      "[] | Total Len: 326150 rows\n"
     ]
    },
    {
     "name": "stderr",
     "output_type": "stream",
     "text": [
      "80it [06:29,  1.04s/it]"
     ]
    },
    {
     "name": "stdout",
     "output_type": "stream",
     "text": [
      "[] | Total Len: 326150 rows\n"
     ]
    },
    {
     "name": "stderr",
     "output_type": "stream",
     "text": [
      "81it [06:30,  1.05s/it]"
     ]
    },
    {
     "name": "stdout",
     "output_type": "stream",
     "text": [
      "[] | Total Len: 326150 rows\n"
     ]
    },
    {
     "name": "stderr",
     "output_type": "stream",
     "text": [
      "82it [06:31,  1.04s/it]"
     ]
    },
    {
     "name": "stdout",
     "output_type": "stream",
     "text": [
      "[] | Total Len: 326150 rows\n"
     ]
    },
    {
     "name": "stderr",
     "output_type": "stream",
     "text": [
      "83it [06:32,  1.03s/it]"
     ]
    },
    {
     "name": "stdout",
     "output_type": "stream",
     "text": [
      "[] | Total Len: 326150 rows\n"
     ]
    },
    {
     "name": "stderr",
     "output_type": "stream",
     "text": [
      "84it [06:33,  1.01s/it]"
     ]
    },
    {
     "name": "stdout",
     "output_type": "stream",
     "text": [
      "[] | Total Len: 326150 rows\n"
     ]
    },
    {
     "name": "stderr",
     "output_type": "stream",
     "text": [
      "85it [06:34,  1.02s/it]"
     ]
    },
    {
     "name": "stdout",
     "output_type": "stream",
     "text": [
      "[] | Total Len: 326150 rows\n"
     ]
    },
    {
     "name": "stderr",
     "output_type": "stream",
     "text": [
      "86it [06:35,  1.02s/it]"
     ]
    },
    {
     "name": "stdout",
     "output_type": "stream",
     "text": [
      "[] | Total Len: 326150 rows\n"
     ]
    },
    {
     "name": "stderr",
     "output_type": "stream",
     "text": [
      "87it [06:36,  1.03s/it]"
     ]
    },
    {
     "name": "stdout",
     "output_type": "stream",
     "text": [
      "[] | Total Len: 326150 rows\n"
     ]
    },
    {
     "name": "stderr",
     "output_type": "stream",
     "text": [
      "88it [06:37,  1.03s/it]"
     ]
    },
    {
     "name": "stdout",
     "output_type": "stream",
     "text": [
      "[] | Total Len: 326150 rows\n"
     ]
    },
    {
     "name": "stderr",
     "output_type": "stream",
     "text": [
      "89it [06:38,  1.04s/it]"
     ]
    },
    {
     "name": "stdout",
     "output_type": "stream",
     "text": [
      "[] | Total Len: 326150 rows\n"
     ]
    },
    {
     "name": "stderr",
     "output_type": "stream",
     "text": [
      "90it [06:39,  1.04s/it]"
     ]
    },
    {
     "name": "stdout",
     "output_type": "stream",
     "text": [
      "[] | Total Len: 326150 rows\n"
     ]
    },
    {
     "name": "stderr",
     "output_type": "stream",
     "text": [
      "91it [06:40,  1.02s/it]"
     ]
    },
    {
     "name": "stdout",
     "output_type": "stream",
     "text": [
      "[] | Total Len: 326150 rows\n"
     ]
    },
    {
     "name": "stderr",
     "output_type": "stream",
     "text": [
      "92it [06:41,  1.01it/s]"
     ]
    },
    {
     "name": "stdout",
     "output_type": "stream",
     "text": [
      "[] | Total Len: 326150 rows\n"
     ]
    },
    {
     "name": "stderr",
     "output_type": "stream",
     "text": [
      "93it [06:42,  1.02it/s]"
     ]
    },
    {
     "name": "stdout",
     "output_type": "stream",
     "text": [
      "[] | Total Len: 326150 rows\n"
     ]
    },
    {
     "name": "stderr",
     "output_type": "stream",
     "text": [
      "94it [06:43,  1.01s/it]"
     ]
    },
    {
     "name": "stdout",
     "output_type": "stream",
     "text": [
      "[] | Total Len: 326150 rows\n"
     ]
    },
    {
     "name": "stderr",
     "output_type": "stream",
     "text": [
      "95it [06:44,  1.02s/it]"
     ]
    },
    {
     "name": "stdout",
     "output_type": "stream",
     "text": [
      "[] | Total Len: 326150 rows\n"
     ]
    },
    {
     "name": "stderr",
     "output_type": "stream",
     "text": [
      "96it [06:46,  1.03s/it]"
     ]
    },
    {
     "name": "stdout",
     "output_type": "stream",
     "text": [
      "[] | Total Len: 326150 rows\n"
     ]
    },
    {
     "name": "stderr",
     "output_type": "stream",
     "text": [
      "97it [06:47,  1.03s/it]"
     ]
    },
    {
     "name": "stdout",
     "output_type": "stream",
     "text": [
      "[] | Total Len: 326150 rows\n"
     ]
    },
    {
     "name": "stderr",
     "output_type": "stream",
     "text": [
      "98it [06:48,  1.03s/it]"
     ]
    },
    {
     "name": "stdout",
     "output_type": "stream",
     "text": [
      "[] | Total Len: 326150 rows\n"
     ]
    },
    {
     "name": "stderr",
     "output_type": "stream",
     "text": [
      "99it [06:49,  1.03s/it]"
     ]
    },
    {
     "name": "stdout",
     "output_type": "stream",
     "text": [
      "[] | Total Len: 326150 rows\n"
     ]
    },
    {
     "name": "stderr",
     "output_type": "stream",
     "text": [
      "100it [06:49,  4.10s/it]"
     ]
    },
    {
     "name": "stdout",
     "output_type": "stream",
     "text": [
      "[] | Total Len: 326150 rows\n"
     ]
    },
    {
     "name": "stderr",
     "output_type": "stream",
     "text": [
      "\n"
     ]
    }
   ],
   "source": [
    "stock_symbols = [\n",
    "    \"ADBE\", \"AMD\", \"ABNB\", \"GOOGL\", \"GOOG\", \"AMZN\", \"AEP\", \"AMGN\", \"ADI\", \"ANSS\", \"AAPL\", \"AMAT\",\n",
    "    \"APP\", \"ARM\", \"ASML\", \"AZN\", \"TEAM\", \"ADSK\", \"ADP\", \"BKR\", \"BIIB\", \"BKNG\", \"AVGO\", \"CDNS\",\n",
    "    \"CDW\", \"CHTR\", \"CTAS\", \"CSCO\", \"CCEP\", \"CTSH\", \"CMCSA\", \"CEG\", \"CPRT\", \"CSGP\", \"COST\", \"CRWD\",\n",
    "    \"CSX\", \"DDOG\", \"DXCM\", \"FANG\", \"DASH\", \"EA\", \"EXC\", \"FAST\", \"FTNT\", \"GEHC\", \"GILD\", \"GFS\",\n",
    "    \"HON\", \"IDXX\", \"ILMN\", \"INTC\", \"INTU\", \"ISRG\", \"KDP\", \"KLAC\", \"KHC\", \"LRCX\", \"LIN\", \"LULU\",\n",
    "    \"MAR\", \"MRVL\", \"MELI\", \"META\", \"MCHP\", \"MU\", \"MSFT\", \"MRNA\", \"MDLZ\", \"MDB\", \"MNST\", \"NFLX\",\n",
    "    \"NVDA\", \"NXPI\", \"ORLY\", \"ODFL\", \"ON\", \"PCAR\", \"PANW\", \"PAYX\", \"PYPL\", \"PDD\", \"PEP\", \"QCOM\",\n",
    "    \"REGN\", \"ROP\", \"ROST\", \"SBUX\", \"SMCI\", \"SNPS\", \"TTWO\", \"TMUS\", \"TSLA\", \"TXN\", \"TTD\", \"VRSK\",\n",
    "    \"VRTX\", \"WBD\", \"WDAY\", \"XEL\", \"ZS\"\n",
    "]\n",
    "\n",
    "URL = \"/kaggle/working/nasdaq_external_data.csv\"\n",
    "\n",
    "reader = pd.read_csv(URL, chunksize=100_000)\n",
    "final_df = pd.DataFrame()\n",
    "iteration = 0\n",
    "\n",
    "for df in tqdm(reader):\n",
    "    filtered_df = df[df[\"Stock_symbol\"].isin(stock_symbols)]\n",
    "    final_df = pd.concat([final_df, filtered_df])\n",
    "    \n",
    "    print(f\"{filtered_df['Stock_symbol'].unique()} | Total Len: {len(final_df)} rows\")"
   ]
  },
  {
   "cell_type": "code",
   "execution_count": 28,
   "metadata": {
    "execution": {
     "iopub.execute_input": "2024-12-21T07:49:12.689080Z",
     "iopub.status.busy": "2024-12-21T07:49:12.688534Z",
     "iopub.status.idle": "2024-12-21T07:53:00.433692Z",
     "shell.execute_reply": "2024-12-21T07:53:00.432104Z",
     "shell.execute_reply.started": "2024-12-21T07:49:12.689038Z"
    },
    "trusted": true
   },
   "outputs": [],
   "source": [
    "final_df[\"Date\"] = pd.to_datetime(final_df[\"Date\"])\n",
    "final_df = final_df[final_df[\"Article\"].notna()]\n",
    "final_df.to_parquet(\"filtered_news.parquet\", index=False, compression=\"brotli\")"
   ]
  },
  {
   "cell_type": "code",
   "execution_count": 33,
   "metadata": {
    "execution": {
     "iopub.execute_input": "2024-12-21T07:57:28.341434Z",
     "iopub.status.busy": "2024-12-21T07:57:28.340982Z",
     "iopub.status.idle": "2024-12-21T07:57:28.403993Z",
     "shell.execute_reply": "2024-12-21T07:57:28.402457Z",
     "shell.execute_reply.started": "2024-12-21T07:57:28.341396Z"
    },
    "trusted": true
   },
   "outputs": [
    {
     "data": {
      "text/html": [
       "<div>\n",
       "<style scoped>\n",
       "    .dataframe tbody tr th:only-of-type {\n",
       "        vertical-align: middle;\n",
       "    }\n",
       "\n",
       "    .dataframe tbody tr th {\n",
       "        vertical-align: top;\n",
       "    }\n",
       "\n",
       "    .dataframe thead th {\n",
       "        text-align: right;\n",
       "    }\n",
       "</style>\n",
       "<table border=\"1\" class=\"dataframe\">\n",
       "  <thead>\n",
       "    <tr style=\"text-align: right;\">\n",
       "      <th></th>\n",
       "      <th>Date</th>\n",
       "      <th>Article_title</th>\n",
       "      <th>Stock_symbol</th>\n",
       "      <th>Url</th>\n",
       "      <th>Article</th>\n",
       "      <th>Textrank_summary</th>\n",
       "    </tr>\n",
       "  </thead>\n",
       "  <tbody>\n",
       "    <tr>\n",
       "      <th>12025</th>\n",
       "      <td>2023-12-16 22:00:00+00:00</td>\n",
       "      <td>My 6 Largest Portfolio Holdings Heading Into 2...</td>\n",
       "      <td>AAPL</td>\n",
       "      <td>https://www.nasdaq.com/articles/my-6-largest-p...</td>\n",
       "      <td>After an absolute disaster of a year in 2022, ...</td>\n",
       "      <td>3: Apple There's little question that Apple (N...</td>\n",
       "    </tr>\n",
       "    <tr>\n",
       "      <th>12026</th>\n",
       "      <td>2023-12-16 22:00:00+00:00</td>\n",
       "      <td>Brokers Suggest Investing in Apple (AAPL): Rea...</td>\n",
       "      <td>AAPL</td>\n",
       "      <td>https://www.nasdaq.com/articles/brokers-sugges...</td>\n",
       "      <td>When deciding whether to buy, sell, or hold a ...</td>\n",
       "      <td>Let's take a look at what these Wall Street he...</td>\n",
       "    </tr>\n",
       "    <tr>\n",
       "      <th>12027</th>\n",
       "      <td>2023-12-16 21:00:00+00:00</td>\n",
       "      <td>Company News for Dec 19, 2023</td>\n",
       "      <td>AAPL</td>\n",
       "      <td>https://www.nasdaq.com/articles/company-news-f...</td>\n",
       "      <td>Shares of Apple Inc. AAPL lost 0.9% on China’s...</td>\n",
       "      <td>Click to get this free report Apple Inc. (AAPL...</td>\n",
       "    </tr>\n",
       "    <tr>\n",
       "      <th>12028</th>\n",
       "      <td>2023-12-16 21:00:00+00:00</td>\n",
       "      <td>NVIDIA (NVDA) Up 243% YTD: Will It Carry Momen...</td>\n",
       "      <td>AAPL</td>\n",
       "      <td>https://www.nasdaq.com/articles/nvidia-nvda-up...</td>\n",
       "      <td>NVIDIA Corporation NVDA has witnessed a remark...</td>\n",
       "      <td>Other Stocks in the $1T Club Apart from NVIDIA...</td>\n",
       "    </tr>\n",
       "    <tr>\n",
       "      <th>12029</th>\n",
       "      <td>2023-12-16 21:00:00+00:00</td>\n",
       "      <td>Pre-Market Most Active for Dec 19, 2023 : BMY,...</td>\n",
       "      <td>AAPL</td>\n",
       "      <td>https://www.nasdaq.com/articles/pre-market-mos...</td>\n",
       "      <td>The NASDAQ 100 Pre-Market Indicator is up 10.1...</td>\n",
       "      <td>Apple Inc. (AAPL) is +0.86 at $196.75, with 1,...</td>\n",
       "    </tr>\n",
       "    <tr>\n",
       "      <th>...</th>\n",
       "      <td>...</td>\n",
       "      <td>...</td>\n",
       "      <td>...</td>\n",
       "      <td>...</td>\n",
       "      <td>...</td>\n",
       "      <td>...</td>\n",
       "    </tr>\n",
       "    <tr>\n",
       "      <th>2488761</th>\n",
       "      <td>2018-03-07 00:00:00+00:00</td>\n",
       "      <td>Here's a first: The Praetorian Group files $75...</td>\n",
       "      <td>ZS</td>\n",
       "      <td>https://www.nasdaq.com/articles/heres-first-pr...</td>\n",
       "      <td>The Praetorian Group filed what appears to be ...</td>\n",
       "      <td>However, IPO Intelligence clients can access o...</td>\n",
       "    </tr>\n",
       "    <tr>\n",
       "      <th>2488762</th>\n",
       "      <td>2018-03-05 00:00:00+00:00</td>\n",
       "      <td>Zscaler leads the unicorn charge of 2018 - her...</td>\n",
       "      <td>ZS</td>\n",
       "      <td>https://www.nasdaq.com/articles/zscaler-leads-...</td>\n",
       "      <td>Zscaler will be the year's first \"unicorn\" IPO...</td>\n",
       "      <td>¤ Leading cybersecurity provider ¤ 50% growth,...</td>\n",
       "    </tr>\n",
       "    <tr>\n",
       "      <th>2488763</th>\n",
       "      <td>2018-03-02 00:00:00+00:00</td>\n",
       "      <td>US IPO Week Ahead: 1 biotech expected in the w...</td>\n",
       "      <td>ZS</td>\n",
       "      <td>https://www.nasdaq.com/articles/us-ipo-week-ah...</td>\n",
       "      <td>Only one small biotech is on the calendar for ...</td>\n",
       "      <td>That said, four deals are able to launch on Mo...</td>\n",
       "    </tr>\n",
       "    <tr>\n",
       "      <th>2488764</th>\n",
       "      <td>2018-02-23 00:00:00+00:00</td>\n",
       "      <td>US IPO Weekly Recap: Dropbox files for a $500 ...</td>\n",
       "      <td>ZS</td>\n",
       "      <td>https://www.nasdaq.com/articles/us-ipo-weekly-...</td>\n",
       "      <td>The year's first \"decacorn\" is here: Dropbox (...</td>\n",
       "      <td>But if Dropbox and cybersecurity unicorn Zscal...</td>\n",
       "    </tr>\n",
       "    <tr>\n",
       "      <th>2488765</th>\n",
       "      <td>2018-02-23 00:00:00+00:00</td>\n",
       "      <td>US IPO Week Ahead: 1 SPAC expected this week, ...</td>\n",
       "      <td>ZS</td>\n",
       "      <td>https://www.nasdaq.com/articles/us-ipo-week-ah...</td>\n",
       "      <td>With just one deal on the calendar for the wee...</td>\n",
       "      <td>Highly-anticipated cyber security unicorn Zsca...</td>\n",
       "    </tr>\n",
       "  </tbody>\n",
       "</table>\n",
       "<p>209600 rows × 6 columns</p>\n",
       "</div>"
      ],
      "text/plain": [
       "                             Date  \\\n",
       "12025   2023-12-16 22:00:00+00:00   \n",
       "12026   2023-12-16 22:00:00+00:00   \n",
       "12027   2023-12-16 21:00:00+00:00   \n",
       "12028   2023-12-16 21:00:00+00:00   \n",
       "12029   2023-12-16 21:00:00+00:00   \n",
       "...                           ...   \n",
       "2488761 2018-03-07 00:00:00+00:00   \n",
       "2488762 2018-03-05 00:00:00+00:00   \n",
       "2488763 2018-03-02 00:00:00+00:00   \n",
       "2488764 2018-02-23 00:00:00+00:00   \n",
       "2488765 2018-02-23 00:00:00+00:00   \n",
       "\n",
       "                                             Article_title Stock_symbol  \\\n",
       "12025    My 6 Largest Portfolio Holdings Heading Into 2...         AAPL   \n",
       "12026    Brokers Suggest Investing in Apple (AAPL): Rea...         AAPL   \n",
       "12027                        Company News for Dec 19, 2023         AAPL   \n",
       "12028    NVIDIA (NVDA) Up 243% YTD: Will It Carry Momen...         AAPL   \n",
       "12029    Pre-Market Most Active for Dec 19, 2023 : BMY,...         AAPL   \n",
       "...                                                    ...          ...   \n",
       "2488761  Here's a first: The Praetorian Group files $75...           ZS   \n",
       "2488762  Zscaler leads the unicorn charge of 2018 - her...           ZS   \n",
       "2488763  US IPO Week Ahead: 1 biotech expected in the w...           ZS   \n",
       "2488764  US IPO Weekly Recap: Dropbox files for a $500 ...           ZS   \n",
       "2488765  US IPO Week Ahead: 1 SPAC expected this week, ...           ZS   \n",
       "\n",
       "                                                       Url  \\\n",
       "12025    https://www.nasdaq.com/articles/my-6-largest-p...   \n",
       "12026    https://www.nasdaq.com/articles/brokers-sugges...   \n",
       "12027    https://www.nasdaq.com/articles/company-news-f...   \n",
       "12028    https://www.nasdaq.com/articles/nvidia-nvda-up...   \n",
       "12029    https://www.nasdaq.com/articles/pre-market-mos...   \n",
       "...                                                    ...   \n",
       "2488761  https://www.nasdaq.com/articles/heres-first-pr...   \n",
       "2488762  https://www.nasdaq.com/articles/zscaler-leads-...   \n",
       "2488763  https://www.nasdaq.com/articles/us-ipo-week-ah...   \n",
       "2488764  https://www.nasdaq.com/articles/us-ipo-weekly-...   \n",
       "2488765  https://www.nasdaq.com/articles/us-ipo-week-ah...   \n",
       "\n",
       "                                                   Article  \\\n",
       "12025    After an absolute disaster of a year in 2022, ...   \n",
       "12026    When deciding whether to buy, sell, or hold a ...   \n",
       "12027    Shares of Apple Inc. AAPL lost 0.9% on China’s...   \n",
       "12028    NVIDIA Corporation NVDA has witnessed a remark...   \n",
       "12029    The NASDAQ 100 Pre-Market Indicator is up 10.1...   \n",
       "...                                                    ...   \n",
       "2488761  The Praetorian Group filed what appears to be ...   \n",
       "2488762  Zscaler will be the year's first \"unicorn\" IPO...   \n",
       "2488763  Only one small biotech is on the calendar for ...   \n",
       "2488764  The year's first \"decacorn\" is here: Dropbox (...   \n",
       "2488765  With just one deal on the calendar for the wee...   \n",
       "\n",
       "                                          Textrank_summary  \n",
       "12025    3: Apple There's little question that Apple (N...  \n",
       "12026    Let's take a look at what these Wall Street he...  \n",
       "12027    Click to get this free report Apple Inc. (AAPL...  \n",
       "12028    Other Stocks in the $1T Club Apart from NVIDIA...  \n",
       "12029    Apple Inc. (AAPL) is +0.86 at $196.75, with 1,...  \n",
       "...                                                    ...  \n",
       "2488761  However, IPO Intelligence clients can access o...  \n",
       "2488762  ¤ Leading cybersecurity provider ¤ 50% growth,...  \n",
       "2488763  That said, four deals are able to launch on Mo...  \n",
       "2488764  But if Dropbox and cybersecurity unicorn Zscal...  \n",
       "2488765  Highly-anticipated cyber security unicorn Zsca...  \n",
       "\n",
       "[209600 rows x 6 columns]"
      ]
     },
     "execution_count": 33,
     "metadata": {},
     "output_type": "execute_result"
    }
   ],
   "source": [
    "dropped_df = final_df.drop([\"Lsa_summary\", \"Luhn_summary\", \"Lexrank_summary\", \"Publisher\", \"Author\", \"Unnamed: 0\"], axis=1)\n",
    "dropped_df"
   ]
  },
  {
   "cell_type": "code",
   "execution_count": 37,
   "metadata": {
    "execution": {
     "iopub.execute_input": "2024-12-21T07:59:56.089890Z",
     "iopub.status.busy": "2024-12-21T07:59:56.089341Z",
     "iopub.status.idle": "2024-12-21T07:59:56.496188Z",
     "shell.execute_reply": "2024-12-21T07:59:56.494565Z",
     "shell.execute_reply.started": "2024-12-21T07:59:56.089843Z"
    },
    "trusted": true
   },
   "outputs": [
    {
     "data": {
      "text/html": [
       "<div>\n",
       "<style scoped>\n",
       "    .dataframe tbody tr th:only-of-type {\n",
       "        vertical-align: middle;\n",
       "    }\n",
       "\n",
       "    .dataframe tbody tr th {\n",
       "        vertical-align: top;\n",
       "    }\n",
       "\n",
       "    .dataframe thead th {\n",
       "        text-align: right;\n",
       "    }\n",
       "</style>\n",
       "<table border=\"1\" class=\"dataframe\">\n",
       "  <thead>\n",
       "    <tr style=\"text-align: right;\">\n",
       "      <th></th>\n",
       "      <th>Date</th>\n",
       "      <th>Article_title</th>\n",
       "      <th>Stock_symbol</th>\n",
       "      <th>Url</th>\n",
       "      <th>Article</th>\n",
       "      <th>Textrank_summary</th>\n",
       "    </tr>\n",
       "  </thead>\n",
       "  <tbody>\n",
       "    <tr>\n",
       "      <th>0</th>\n",
       "      <td>2023-12-16 22:00:00+00:00</td>\n",
       "      <td>My 6 Largest Portfolio Holdings Heading Into 2...</td>\n",
       "      <td>AAPL</td>\n",
       "      <td>https://www.nasdaq.com/articles/my-6-largest-p...</td>\n",
       "      <td>After an absolute disaster of a year in 2022, ...</td>\n",
       "      <td>3: Apple There's little question that Apple (N...</td>\n",
       "    </tr>\n",
       "    <tr>\n",
       "      <th>1</th>\n",
       "      <td>2023-12-16 22:00:00+00:00</td>\n",
       "      <td>Brokers Suggest Investing in Apple (AAPL): Rea...</td>\n",
       "      <td>AAPL</td>\n",
       "      <td>https://www.nasdaq.com/articles/brokers-sugges...</td>\n",
       "      <td>When deciding whether to buy, sell, or hold a ...</td>\n",
       "      <td>Let's take a look at what these Wall Street he...</td>\n",
       "    </tr>\n",
       "    <tr>\n",
       "      <th>2</th>\n",
       "      <td>2023-12-16 21:00:00+00:00</td>\n",
       "      <td>Company News for Dec 19, 2023</td>\n",
       "      <td>AAPL</td>\n",
       "      <td>https://www.nasdaq.com/articles/company-news-f...</td>\n",
       "      <td>Shares of Apple Inc. AAPL lost 0.9% on China’s...</td>\n",
       "      <td>Click to get this free report Apple Inc. (AAPL...</td>\n",
       "    </tr>\n",
       "    <tr>\n",
       "      <th>3</th>\n",
       "      <td>2023-12-16 21:00:00+00:00</td>\n",
       "      <td>NVIDIA (NVDA) Up 243% YTD: Will It Carry Momen...</td>\n",
       "      <td>AAPL</td>\n",
       "      <td>https://www.nasdaq.com/articles/nvidia-nvda-up...</td>\n",
       "      <td>NVIDIA Corporation NVDA has witnessed a remark...</td>\n",
       "      <td>Other Stocks in the $1T Club Apart from NVIDIA...</td>\n",
       "    </tr>\n",
       "    <tr>\n",
       "      <th>4</th>\n",
       "      <td>2023-12-16 21:00:00+00:00</td>\n",
       "      <td>Pre-Market Most Active for Dec 19, 2023 : BMY,...</td>\n",
       "      <td>AAPL</td>\n",
       "      <td>https://www.nasdaq.com/articles/pre-market-mos...</td>\n",
       "      <td>The NASDAQ 100 Pre-Market Indicator is up 10.1...</td>\n",
       "      <td>Apple Inc. (AAPL) is +0.86 at $196.75, with 1,...</td>\n",
       "    </tr>\n",
       "    <tr>\n",
       "      <th>...</th>\n",
       "      <td>...</td>\n",
       "      <td>...</td>\n",
       "      <td>...</td>\n",
       "      <td>...</td>\n",
       "      <td>...</td>\n",
       "      <td>...</td>\n",
       "    </tr>\n",
       "    <tr>\n",
       "      <th>18987</th>\n",
       "      <td>2023-09-06 00:00:00+00:00</td>\n",
       "      <td>Oppenheimer Maintains Zscaler (ZS) Outperform ...</td>\n",
       "      <td>ZS</td>\n",
       "      <td>https://www.nasdaq.com/articles/oppenheimer-ma...</td>\n",
       "      <td>Fintel reports that on September 6, 2023, Oppe...</td>\n",
       "      <td>Additional reading: Zscaler Reports Fourth Qua...</td>\n",
       "    </tr>\n",
       "    <tr>\n",
       "      <th>18988</th>\n",
       "      <td>2023-09-06 00:00:00+00:00</td>\n",
       "      <td>Rosenblatt Reiterates Zscaler (ZS) Buy Recomme...</td>\n",
       "      <td>ZS</td>\n",
       "      <td>https://www.nasdaq.com/articles/rosenblatt-rei...</td>\n",
       "      <td>Fintel reports that on September 6, 2023, Rose...</td>\n",
       "      <td>Additional reading: Zscaler Reports Fourth Qua...</td>\n",
       "    </tr>\n",
       "    <tr>\n",
       "      <th>18989</th>\n",
       "      <td>2023-09-06 00:00:00+00:00</td>\n",
       "      <td>Wedbush Maintains Zscaler (ZS) Outperform Reco...</td>\n",
       "      <td>ZS</td>\n",
       "      <td>https://www.nasdaq.com/articles/wedbush-mainta...</td>\n",
       "      <td>Fintel reports that on September 6, 2023, Wedb...</td>\n",
       "      <td>Additional reading: Zscaler Reports Fourth Qua...</td>\n",
       "    </tr>\n",
       "    <tr>\n",
       "      <th>18990</th>\n",
       "      <td>2023-09-06 00:00:00+00:00</td>\n",
       "      <td>BTIG Maintains Zscaler (ZS) Buy Recommendation</td>\n",
       "      <td>ZS</td>\n",
       "      <td>https://www.nasdaq.com/articles/btig-maintains...</td>\n",
       "      <td>Fintel reports that on September 6, 2023, BTIG...</td>\n",
       "      <td>Additional reading: Zscaler Reports Fourth Qua...</td>\n",
       "    </tr>\n",
       "    <tr>\n",
       "      <th>18991</th>\n",
       "      <td>2023-09-06 00:00:00+00:00</td>\n",
       "      <td>Evercore ISI Group Maintains Zscaler (ZS) Outp...</td>\n",
       "      <td>ZS</td>\n",
       "      <td>https://www.nasdaq.com/articles/evercore-isi-g...</td>\n",
       "      <td>Fintel reports that on September 6, 2023, Ever...</td>\n",
       "      <td>Additional reading: Zscaler Reports Fourth Qua...</td>\n",
       "    </tr>\n",
       "  </tbody>\n",
       "</table>\n",
       "<p>18992 rows × 6 columns</p>\n",
       "</div>"
      ],
      "text/plain": [
       "                           Date  \\\n",
       "0     2023-12-16 22:00:00+00:00   \n",
       "1     2023-12-16 22:00:00+00:00   \n",
       "2     2023-12-16 21:00:00+00:00   \n",
       "3     2023-12-16 21:00:00+00:00   \n",
       "4     2023-12-16 21:00:00+00:00   \n",
       "...                         ...   \n",
       "18987 2023-09-06 00:00:00+00:00   \n",
       "18988 2023-09-06 00:00:00+00:00   \n",
       "18989 2023-09-06 00:00:00+00:00   \n",
       "18990 2023-09-06 00:00:00+00:00   \n",
       "18991 2023-09-06 00:00:00+00:00   \n",
       "\n",
       "                                           Article_title Stock_symbol  \\\n",
       "0      My 6 Largest Portfolio Holdings Heading Into 2...         AAPL   \n",
       "1      Brokers Suggest Investing in Apple (AAPL): Rea...         AAPL   \n",
       "2                          Company News for Dec 19, 2023         AAPL   \n",
       "3      NVIDIA (NVDA) Up 243% YTD: Will It Carry Momen...         AAPL   \n",
       "4      Pre-Market Most Active for Dec 19, 2023 : BMY,...         AAPL   \n",
       "...                                                  ...          ...   \n",
       "18987  Oppenheimer Maintains Zscaler (ZS) Outperform ...           ZS   \n",
       "18988  Rosenblatt Reiterates Zscaler (ZS) Buy Recomme...           ZS   \n",
       "18989  Wedbush Maintains Zscaler (ZS) Outperform Reco...           ZS   \n",
       "18990     BTIG Maintains Zscaler (ZS) Buy Recommendation           ZS   \n",
       "18991  Evercore ISI Group Maintains Zscaler (ZS) Outp...           ZS   \n",
       "\n",
       "                                                     Url  \\\n",
       "0      https://www.nasdaq.com/articles/my-6-largest-p...   \n",
       "1      https://www.nasdaq.com/articles/brokers-sugges...   \n",
       "2      https://www.nasdaq.com/articles/company-news-f...   \n",
       "3      https://www.nasdaq.com/articles/nvidia-nvda-up...   \n",
       "4      https://www.nasdaq.com/articles/pre-market-mos...   \n",
       "...                                                  ...   \n",
       "18987  https://www.nasdaq.com/articles/oppenheimer-ma...   \n",
       "18988  https://www.nasdaq.com/articles/rosenblatt-rei...   \n",
       "18989  https://www.nasdaq.com/articles/wedbush-mainta...   \n",
       "18990  https://www.nasdaq.com/articles/btig-maintains...   \n",
       "18991  https://www.nasdaq.com/articles/evercore-isi-g...   \n",
       "\n",
       "                                                 Article  \\\n",
       "0      After an absolute disaster of a year in 2022, ...   \n",
       "1      When deciding whether to buy, sell, or hold a ...   \n",
       "2      Shares of Apple Inc. AAPL lost 0.9% on China’s...   \n",
       "3      NVIDIA Corporation NVDA has witnessed a remark...   \n",
       "4      The NASDAQ 100 Pre-Market Indicator is up 10.1...   \n",
       "...                                                  ...   \n",
       "18987  Fintel reports that on September 6, 2023, Oppe...   \n",
       "18988  Fintel reports that on September 6, 2023, Rose...   \n",
       "18989  Fintel reports that on September 6, 2023, Wedb...   \n",
       "18990  Fintel reports that on September 6, 2023, BTIG...   \n",
       "18991  Fintel reports that on September 6, 2023, Ever...   \n",
       "\n",
       "                                        Textrank_summary  \n",
       "0      3: Apple There's little question that Apple (N...  \n",
       "1      Let's take a look at what these Wall Street he...  \n",
       "2      Click to get this free report Apple Inc. (AAPL...  \n",
       "3      Other Stocks in the $1T Club Apart from NVIDIA...  \n",
       "4      Apple Inc. (AAPL) is +0.86 at $196.75, with 1,...  \n",
       "...                                                  ...  \n",
       "18987  Additional reading: Zscaler Reports Fourth Qua...  \n",
       "18988  Additional reading: Zscaler Reports Fourth Qua...  \n",
       "18989  Additional reading: Zscaler Reports Fourth Qua...  \n",
       "18990  Additional reading: Zscaler Reports Fourth Qua...  \n",
       "18991  Additional reading: Zscaler Reports Fourth Qua...  \n",
       "\n",
       "[18992 rows x 6 columns]"
      ]
     },
     "execution_count": 37,
     "metadata": {},
     "output_type": "execute_result"
    }
   ],
   "source": [
    "dropped_df['Date'] = pd.to_datetime(dropped_df['Date'])  \n",
    "dropped_df = dropped_df.drop_duplicates(subset=[\"Textrank_summary\"])\n",
    "\n",
    "sampled_dfs = []\n",
    "for stock_symbol, group in dropped_df.groupby(\"Stock_symbol\"):\n",
    "    group_sorted = group.sort_values(by=\"Date\", ascending=False)\n",
    "    \n",
    "    sample_size = max(1, int(len(group_sorted) * 0.1))  \n",
    "    sampled_group = group_sorted.head(sample_size)\n",
    "    \n",
    "    sampled_dfs.append(sampled_group)\n",
    "\n",
    "document_df = pd.concat(sampled_dfs, ignore_index=True)\n",
    "document_df"
   ]
  },
  {
   "cell_type": "code",
   "execution_count": 40,
   "metadata": {
    "execution": {
     "iopub.execute_input": "2024-12-21T08:04:27.758528Z",
     "iopub.status.busy": "2024-12-21T08:04:27.756920Z",
     "iopub.status.idle": "2024-12-21T08:04:43.474349Z",
     "shell.execute_reply": "2024-12-21T08:04:43.473009Z",
     "shell.execute_reply.started": "2024-12-21T08:04:27.758454Z"
    },
    "trusted": true
   },
   "outputs": [
    {
     "data": {
      "text/html": [
       "<div>\n",
       "<style scoped>\n",
       "    .dataframe tbody tr th:only-of-type {\n",
       "        vertical-align: middle;\n",
       "    }\n",
       "\n",
       "    .dataframe tbody tr th {\n",
       "        vertical-align: top;\n",
       "    }\n",
       "\n",
       "    .dataframe thead th {\n",
       "        text-align: right;\n",
       "    }\n",
       "</style>\n",
       "<table border=\"1\" class=\"dataframe\">\n",
       "  <thead>\n",
       "    <tr style=\"text-align: right;\">\n",
       "      <th></th>\n",
       "      <th>Date</th>\n",
       "      <th>Article_title</th>\n",
       "      <th>Stock_symbol</th>\n",
       "      <th>Url</th>\n",
       "      <th>Article</th>\n",
       "      <th>Textrank_summary</th>\n",
       "    </tr>\n",
       "  </thead>\n",
       "  <tbody>\n",
       "    <tr>\n",
       "      <th>0</th>\n",
       "      <td>2023-12-16 22:00:00+00:00</td>\n",
       "      <td>My 6 Largest Portfolio Holdings Heading Into 2...</td>\n",
       "      <td>AAPL</td>\n",
       "      <td>https://www.nasdaq.com/articles/my-6-largest-p...</td>\n",
       "      <td>After an absolute disaster of a year in 2022, ...</td>\n",
       "      <td>3: Apple There's little question that Apple (N...</td>\n",
       "    </tr>\n",
       "    <tr>\n",
       "      <th>1</th>\n",
       "      <td>2023-12-16 22:00:00+00:00</td>\n",
       "      <td>Brokers Suggest Investing in Apple (AAPL): Rea...</td>\n",
       "      <td>AAPL</td>\n",
       "      <td>https://www.nasdaq.com/articles/brokers-sugges...</td>\n",
       "      <td>When deciding whether to buy, sell, or hold a ...</td>\n",
       "      <td>Let's take a look at what these Wall Street he...</td>\n",
       "    </tr>\n",
       "    <tr>\n",
       "      <th>2</th>\n",
       "      <td>2023-12-16 21:00:00+00:00</td>\n",
       "      <td>Company News for Dec 19, 2023</td>\n",
       "      <td>AAPL</td>\n",
       "      <td>https://www.nasdaq.com/articles/company-news-f...</td>\n",
       "      <td>Shares of Apple Inc. AAPL lost 0.9% on China’s...</td>\n",
       "      <td>Click to get this free report Apple Inc. (AAPL...</td>\n",
       "    </tr>\n",
       "    <tr>\n",
       "      <th>3</th>\n",
       "      <td>2023-12-16 21:00:00+00:00</td>\n",
       "      <td>NVIDIA (NVDA) Up 243% YTD: Will It Carry Momen...</td>\n",
       "      <td>AAPL</td>\n",
       "      <td>https://www.nasdaq.com/articles/nvidia-nvda-up...</td>\n",
       "      <td>NVIDIA Corporation NVDA has witnessed a remark...</td>\n",
       "      <td>Other Stocks in the $1T Club Apart from NVIDIA...</td>\n",
       "    </tr>\n",
       "    <tr>\n",
       "      <th>4</th>\n",
       "      <td>2023-12-16 21:00:00+00:00</td>\n",
       "      <td>Pre-Market Most Active for Dec 19, 2023 : BMY,...</td>\n",
       "      <td>AAPL</td>\n",
       "      <td>https://www.nasdaq.com/articles/pre-market-mos...</td>\n",
       "      <td>The NASDAQ 100 Pre-Market Indicator is up 10.1...</td>\n",
       "      <td>Apple Inc. (AAPL) is +0.86 at $196.75, with 1,...</td>\n",
       "    </tr>\n",
       "    <tr>\n",
       "      <th>...</th>\n",
       "      <td>...</td>\n",
       "      <td>...</td>\n",
       "      <td>...</td>\n",
       "      <td>...</td>\n",
       "      <td>...</td>\n",
       "      <td>...</td>\n",
       "    </tr>\n",
       "    <tr>\n",
       "      <th>18987</th>\n",
       "      <td>2023-09-06 00:00:00+00:00</td>\n",
       "      <td>Oppenheimer Maintains Zscaler (ZS) Outperform ...</td>\n",
       "      <td>ZS</td>\n",
       "      <td>https://www.nasdaq.com/articles/oppenheimer-ma...</td>\n",
       "      <td>Fintel reports that on September 6, 2023, Oppe...</td>\n",
       "      <td>Additional reading: Zscaler Reports Fourth Qua...</td>\n",
       "    </tr>\n",
       "    <tr>\n",
       "      <th>18988</th>\n",
       "      <td>2023-09-06 00:00:00+00:00</td>\n",
       "      <td>Rosenblatt Reiterates Zscaler (ZS) Buy Recomme...</td>\n",
       "      <td>ZS</td>\n",
       "      <td>https://www.nasdaq.com/articles/rosenblatt-rei...</td>\n",
       "      <td>Fintel reports that on September 6, 2023, Rose...</td>\n",
       "      <td>Additional reading: Zscaler Reports Fourth Qua...</td>\n",
       "    </tr>\n",
       "    <tr>\n",
       "      <th>18989</th>\n",
       "      <td>2023-09-06 00:00:00+00:00</td>\n",
       "      <td>Wedbush Maintains Zscaler (ZS) Outperform Reco...</td>\n",
       "      <td>ZS</td>\n",
       "      <td>https://www.nasdaq.com/articles/wedbush-mainta...</td>\n",
       "      <td>Fintel reports that on September 6, 2023, Wedb...</td>\n",
       "      <td>Additional reading: Zscaler Reports Fourth Qua...</td>\n",
       "    </tr>\n",
       "    <tr>\n",
       "      <th>18990</th>\n",
       "      <td>2023-09-06 00:00:00+00:00</td>\n",
       "      <td>BTIG Maintains Zscaler (ZS) Buy Recommendation</td>\n",
       "      <td>ZS</td>\n",
       "      <td>https://www.nasdaq.com/articles/btig-maintains...</td>\n",
       "      <td>Fintel reports that on September 6, 2023, BTIG...</td>\n",
       "      <td>Additional reading: Zscaler Reports Fourth Qua...</td>\n",
       "    </tr>\n",
       "    <tr>\n",
       "      <th>18991</th>\n",
       "      <td>2023-09-06 00:00:00+00:00</td>\n",
       "      <td>Evercore ISI Group Maintains Zscaler (ZS) Outp...</td>\n",
       "      <td>ZS</td>\n",
       "      <td>https://www.nasdaq.com/articles/evercore-isi-g...</td>\n",
       "      <td>Fintel reports that on September 6, 2023, Ever...</td>\n",
       "      <td>Additional reading: Zscaler Reports Fourth Qua...</td>\n",
       "    </tr>\n",
       "  </tbody>\n",
       "</table>\n",
       "<p>18992 rows × 6 columns</p>\n",
       "</div>"
      ],
      "text/plain": [
       "                           Date  \\\n",
       "0     2023-12-16 22:00:00+00:00   \n",
       "1     2023-12-16 22:00:00+00:00   \n",
       "2     2023-12-16 21:00:00+00:00   \n",
       "3     2023-12-16 21:00:00+00:00   \n",
       "4     2023-12-16 21:00:00+00:00   \n",
       "...                         ...   \n",
       "18987 2023-09-06 00:00:00+00:00   \n",
       "18988 2023-09-06 00:00:00+00:00   \n",
       "18989 2023-09-06 00:00:00+00:00   \n",
       "18990 2023-09-06 00:00:00+00:00   \n",
       "18991 2023-09-06 00:00:00+00:00   \n",
       "\n",
       "                                           Article_title Stock_symbol  \\\n",
       "0      My 6 Largest Portfolio Holdings Heading Into 2...         AAPL   \n",
       "1      Brokers Suggest Investing in Apple (AAPL): Rea...         AAPL   \n",
       "2                          Company News for Dec 19, 2023         AAPL   \n",
       "3      NVIDIA (NVDA) Up 243% YTD: Will It Carry Momen...         AAPL   \n",
       "4      Pre-Market Most Active for Dec 19, 2023 : BMY,...         AAPL   \n",
       "...                                                  ...          ...   \n",
       "18987  Oppenheimer Maintains Zscaler (ZS) Outperform ...           ZS   \n",
       "18988  Rosenblatt Reiterates Zscaler (ZS) Buy Recomme...           ZS   \n",
       "18989  Wedbush Maintains Zscaler (ZS) Outperform Reco...           ZS   \n",
       "18990     BTIG Maintains Zscaler (ZS) Buy Recommendation           ZS   \n",
       "18991  Evercore ISI Group Maintains Zscaler (ZS) Outp...           ZS   \n",
       "\n",
       "                                                     Url  \\\n",
       "0      https://www.nasdaq.com/articles/my-6-largest-p...   \n",
       "1      https://www.nasdaq.com/articles/brokers-sugges...   \n",
       "2      https://www.nasdaq.com/articles/company-news-f...   \n",
       "3      https://www.nasdaq.com/articles/nvidia-nvda-up...   \n",
       "4      https://www.nasdaq.com/articles/pre-market-mos...   \n",
       "...                                                  ...   \n",
       "18987  https://www.nasdaq.com/articles/oppenheimer-ma...   \n",
       "18988  https://www.nasdaq.com/articles/rosenblatt-rei...   \n",
       "18989  https://www.nasdaq.com/articles/wedbush-mainta...   \n",
       "18990  https://www.nasdaq.com/articles/btig-maintains...   \n",
       "18991  https://www.nasdaq.com/articles/evercore-isi-g...   \n",
       "\n",
       "                                                 Article  \\\n",
       "0      After an absolute disaster of a year in 2022, ...   \n",
       "1      When deciding whether to buy, sell, or hold a ...   \n",
       "2      Shares of Apple Inc. AAPL lost 0.9% on China’s...   \n",
       "3      NVIDIA Corporation NVDA has witnessed a remark...   \n",
       "4      The NASDAQ 100 Pre-Market Indicator is up 10.1...   \n",
       "...                                                  ...   \n",
       "18987  Fintel reports that on September 6, 2023, Oppe...   \n",
       "18988  Fintel reports that on September 6, 2023, Rose...   \n",
       "18989  Fintel reports that on September 6, 2023, Wedb...   \n",
       "18990  Fintel reports that on September 6, 2023, BTIG...   \n",
       "18991  Fintel reports that on September 6, 2023, Ever...   \n",
       "\n",
       "                                        Textrank_summary  \n",
       "0      3: Apple There's little question that Apple (N...  \n",
       "1      Let's take a look at what these Wall Street he...  \n",
       "2      Click to get this free report Apple Inc. (AAPL...  \n",
       "3      Other Stocks in the $1T Club Apart from NVIDIA...  \n",
       "4      Apple Inc. (AAPL) is +0.86 at $196.75, with 1,...  \n",
       "...                                                  ...  \n",
       "18987  Additional reading: Zscaler Reports Fourth Qua...  \n",
       "18988  Additional reading: Zscaler Reports Fourth Qua...  \n",
       "18989  Additional reading: Zscaler Reports Fourth Qua...  \n",
       "18990  Additional reading: Zscaler Reports Fourth Qua...  \n",
       "18991  Additional reading: Zscaler Reports Fourth Qua...  \n",
       "\n",
       "[18992 rows x 6 columns]"
      ]
     },
     "execution_count": 40,
     "metadata": {},
     "output_type": "execute_result"
    }
   ],
   "source": [
    "document_df.to_parquet(\"document.parquet\", compression=\"brotli\")\n",
    "document_df"
   ]
  },
  {
   "cell_type": "code",
   "execution_count": null,
   "metadata": {
    "trusted": true
   },
   "outputs": [],
   "source": []
  }
 ],
 "metadata": {
  "kaggle": {
   "accelerator": "none",
   "dataSources": [],
   "dockerImageVersionId": 30804,
   "isGpuEnabled": false,
   "isInternetEnabled": true,
   "language": "python",
   "sourceType": "notebook"
  },
  "kernelspec": {
   "display_name": "Python 3",
   "language": "python",
   "name": "python3"
  },
  "language_info": {
   "codemirror_mode": {
    "name": "ipython",
    "version": 3
   },
   "file_extension": ".py",
   "mimetype": "text/x-python",
   "name": "python",
   "nbconvert_exporter": "python",
   "pygments_lexer": "ipython3",
   "version": "3.10.14"
  }
 },
 "nbformat": 4,
 "nbformat_minor": 4
}
